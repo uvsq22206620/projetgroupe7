{
 "cells": [
  {
   "attachments": {},
   "cell_type": "markdown",
   "metadata": {},
   "source": [
    "substitution monoalphabétique générale "
   ]
  },
  {
   "cell_type": "code",
   "execution_count": null,
   "metadata": {},
   "outputs": [],
   "source": [
    "import random \n",
    "\n",
    "mot_à_coder = input(\"Entrez le mot à coder\")\n",
    "liste = [] \n",
    "for e in mot_à_coder :\n",
    "    liste.append(e)\n",
    " \n",
    "liste2 = liste.copy()\n",
    "\n",
    "for i in range (len(liste)) :\n",
    "    liste2[i] = random.randint(0,9)\n",
    "    for j in range (len(liste)): \n",
    "        if liste[i] == liste[j] :\n",
    "            liste2[j] = liste2[i]\n",
    "        else :\n",
    "            while liste2[j] == liste2[i] :\n",
    "                liste2[j] = random.randint(0,9)\n",
    "    i += 1\n",
    "\n",
    "\n",
    "print(liste2)"
   ]
  }
 ],
 "metadata": {
  "kernelspec": {
   "display_name": "l1-python",
   "language": "python",
   "name": "python3"
  },
  "language_info": {
   "codemirror_mode": {
    "name": "ipython",
    "version": 3
   },
   "file_extension": ".py",
   "mimetype": "text/x-python",
   "name": "python",
   "nbconvert_exporter": "python",
   "pygments_lexer": "ipython3",
   "version": "3.10.6"
  },
  "orig_nbformat": 4,
  "vscode": {
   "interpreter": {
    "hash": "459ce8a054decc2e1964189036d5a7014c38b8f683fb5f90ad44b242318b602c"
   }
  }
 },
 "nbformat": 4,
 "nbformat_minor": 2
}
