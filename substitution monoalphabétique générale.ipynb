{
 "cells": [
  {
   "cell_type": "code",
   "execution_count": null,
   "metadata": {},
   "outputs": [],
   "source": [
    "import random\n",
    "import string\n",
    "\n",
    "alphabet = \"abcdefghijklmnopqrstuvwxyz\"\n",
    "\n",
    "def substitution (message=\"\"):\n",
    "\n",
    "    proposition1 = input (\"Souhaitez-vous supprimer les caractères spéciaux ? (Répondre par 'oui' ou 'non')\")\n",
    "    while proposition1.lower() not in [\"oui\", \"non\"]:\n",
    "        proposition1 = input (\"Souhaitez-vous supprimer les caractères spéciaux ? Une réponse soit par 'oui', soit par 'non' est obligatoire\")\n",
    "    \n",
    "    \n",
    "    proposition2 = input (\"Souhaitez-vous supprimer les espaces ? (Répondre par 'oui' ou 'non')\")\n",
    "    while proposition2.lower() not in [\"oui\", \"non\"]:\n",
    "        proposition2 = input (\"Souhaitez-vous supprimer les espaces ? Une réponse soit par 'oui', soit par 'non' est obligatoire\")\n",
    "        \n",
    "\n",
    "    liste = []\n",
    "    mot_code = \"\"\n",
    "    caractere_speciaux = string.punctuation #on place l'ensemble des caractères spéciaux dans une chaîne de caractère.\n",
    "    espace = \" \"  \n",
    "    \n",
    "    if proposition2.lower() == \"oui\" :\n",
    "        message = message.replace(\" \", \"\") #on remplace tous les espaces par du \"vide\"\n",
    "\n",
    "    if proposition1.lower() == \"oui\" :\n",
    "        for lettre in message.lower(): #on met tous les caractères en minuscule\n",
    "            if lettre not in caractere_speciaux:\n",
    "                liste.append(lettre) #si l'utilisateur décide de supprimer tous les caractères spéciaux, on ajoute à la liste uniquement ce qui n'est pas un caractère spécial\n",
    "\n",
    "\n",
    "    elif proposition1.lower() == \"non\" or proposition2 == \"non\" :\n",
    "        for lettre in message.lower():\n",
    "            liste.append(lettre) #si l'utilisateur décide au contraire de conserver les caractères spéciaux et les espaces, le message est placé caractères par caractères dans une liste\n",
    "\n",
    "\n",
    "    nouvel_alphabet_melange = random.sample(alphabet, len(alphabet)) #fonction qui permet de melanger aléatoirement une chaîne de caractère, ici c'est l'alphabet\n",
    "    \n",
    "    for lettre in liste: \n",
    "        if lettre in alphabet :\n",
    "            mot_code += nouvel_alphabet_melange[alphabet.index(lettre)] #si le caractère est une lettre de l'alphabet, on ajoute au mot codé, la lettre positionnée à la même position (dans l'alphabet mélangé) que la lettre initial (de l'alphabet normal).\n",
    "        else :\n",
    "            mot_code += lettre \n",
    "\n",
    "    return mot_code\n",
    "\n",
    "message_code = substitution (input(\"Saisir le message à coder\")) #on stocke la variable afin de pouvoir potentiellement la réutiliser\n",
    "\n",
    "print(\"Le message codé est :\", message_code)\n"
   ]
  }
 ],
 "metadata": {
  "language_info": {
   "name": "python"
  },
  "orig_nbformat": 4
 },
 "nbformat": 4,
 "nbformat_minor": 2
}
