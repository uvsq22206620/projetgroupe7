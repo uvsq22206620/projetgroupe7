{
 "cells": [
  {
   "cell_type": "code",
   "execution_count": null,
   "metadata": {},
   "outputs": [],
   "source": [
    "def decryptage_substitution(message_code=\"\"):\n",
    "\n",
    "\n",
    "    frequences_attendues_langue_francaise ={'a': 9.42, 'b': 1.02, 'c': 2.64, 'd': 3.39, 'e': 15.87, 'f': 0.95, 'g': 1.04, 'h': 0.77, 'i': 8.41, 'j': 0.89, 'k': 0.00, 'l': 5.34, 'm': 3.24, 'n': 7.15, 'o': 5.14, 'p': 2.86, 'q': 1.06, 'r': 6.46, 's': 7.90, 't': 7.26, 'u': 6.24, 'v': 2.15, 'w': 0.00, 'x': 0.30, 'y': 0.24, 'z': 0.32} #fréquence attendues des lettres dans la langue française\n",
    "    alphabet = \"abcdefghijklmnopqrstuvwxyz\"\n",
    "    \n",
    "    \n",
    "    frequence_mot_chiffre = {} #on crée un dictionnaire pour stocker les lettres du mot codé et leur fréquence d'apparition\n",
    "    for lettre in message_code : \n",
    "        if lettre not in frequence_mot_chiffre :\n",
    "            frequence_mot_chiffre[lettre] = 1 #si la lettre n'est pas enregistrée dans le dictionnaire, maintenant elle existe et on y associe sa fréquence qui est de 1\n",
    "        else :\n",
    "            frequence_mot_chiffre[lettre] += 1 #si la lettre est déjà dans le dictionnaire, on ajoute à la valeur précédente + 1\n",
    "\n",
    "\n",
    "    mot_dechiffre = message_code #mis en place d'une nouvelle variable que l'on va modifier afin de ne pas perdre la précédente\n",
    "    \n",
    "    while len(frequence_mot_chiffre) > 0 : #on parcout tout le dictionnaire qui stocke les lettres codés\n",
    "        valeur_maximale = max(frequence_mot_chiffre, key=frequence_mot_chiffre.get) #on stocke la lettre associée à l'élement le plus élevé dans notre mot codé\n",
    "        if valeur_maximale in alphabet: #car les espaces peuvent être le caractère qui revient le plus et pourtant l'espace n'est pas codé\n",
    "            lettre_correspondante = max(frequences_attendues_langue_francaise, key=frequences_attendues_langue_francaise.get) #on récupère la lettre qui revient le plus de fois dans l'alphabet\n",
    "            mot_dechiffre = mot_dechiffre.replace(valeur_maximale, lettre_correspondante)\n",
    "            del frequences_attendues_langue_francaise[lettre_correspondante]\n",
    "        del frequence_mot_chiffre[valeur_maximale] # on supprime les lettres qui ont la plus grande fréquence dans la langue française et celle qui apparait le plus de fois dans le mot pour qu'il y ait un nouvel maxim\n",
    "    \n",
    "    #RETOUR DU MOT DECHIFFRE\n",
    "    return mot_dechiffre\n",
    "\n",
    "print (decryptage_substitution(input(\"Saisir le message chiffré à déchiffrer\")))\n"
   ]
  }
 ],
 "metadata": {
  "kernelspec": {
   "display_name": "base",
   "language": "python",
   "name": "python3"
  },
  "language_info": {
   "codemirror_mode": {
    "name": "ipython",
    "version": 3
   },
   "file_extension": ".py",
   "mimetype": "text/x-python",
   "name": "python",
   "nbconvert_exporter": "python",
   "pygments_lexer": "ipython3",
   "version": "3.9.12"
  },
  "orig_nbformat": 4
 },
 "nbformat": 4,
 "nbformat_minor": 2
}
